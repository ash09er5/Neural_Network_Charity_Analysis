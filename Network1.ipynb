{
 "cells": [
  {
   "cell_type": "code",
   "execution_count": 1,
   "id": "7fd91ce7",
   "metadata": {},
   "outputs": [],
   "source": [
    "# Import our dependencies\n",
    "import pandas as pd\n",
    "import matplotlib as plt\n",
    "from sklearn.datasets import make_blobs\n",
    "import sklearn as skl\n",
    "import tensorflow as tf"
   ]
  },
  {
   "cell_type": "code",
   "execution_count": 2,
   "id": "6294c208",
   "metadata": {},
   "outputs": [
    {
     "data": {
      "text/plain": [
       "<AxesSubplot:xlabel='Feature 1', ylabel='Feature 2'>"
      ]
     },
     "execution_count": 2,
     "metadata": {},
     "output_type": "execute_result"
    },
    {
     "data": {
      "image/png": "[encoded data removed]",
      "text/plain": [
       "<Figure size 432x288 with 2 Axes>"
      ]
     },
     "metadata": {
      "needs_background": "light"
     },
     "output_type": "display_data"
    }
   ],
   "source": [
    "# Generate dummy dataset\n",
    "X, y = make_blobs(n_samples=1000, centers=2, n_features=2, random_state=78)\n",
    "\n",
    "# Creating a DataFrame with the dummy data\n",
    "df = pd.DataFrame(X, columns=[\"Feature 1\", \"Feature 2\"])\n",
    "df[\"Target\"] = y\n",
    "\n",
    "# Plotting the dummy data\n",
    "df.plot.scatter(x=\"Feature 1\", y=\"Feature 2\", c=\"Target\", colormap=\"winter\")"
   ]
  },
  {
   "cell_type": "code",
   "execution_count": 3,
   "id": "fea68e63",
   "metadata": {},
   "outputs": [],
   "source": [
    "# Use sklearn to split dataset\n",
    "from sklearn.model_selection import train_test_split\n",
    "X_train, X_test, y_train, y_test = train_test_split(X, y, random_state=78)"
   ]
  },
  {
   "cell_type": "code",
   "execution_count": 4,
   "id": "db072af4",
   "metadata": {},
   "outputs": [],
   "source": [
    "# Create scaler instance\n",
    "X_scaler = skl.preprocessing.StandardScaler()\n",
    "\n",
    "# Fit the scaler\n",
    "X_scaler.fit(X_train)\n",
    "\n",
    "# Scale the data\n",
    "X_train_scaled = X_scaler.transform(X_train)\n",
    "X_test_scaled = X_scaler.transform(X_test)"
   ]
  },
  {
   "cell_type": "code",
   "execution_count": 5,
   "id": "3a64c5f7",
   "metadata": {},
   "outputs": [],
   "source": [
    "# Create the Keras Sequential model\n",
    "nn_model = tf.keras.models.Sequential()"
   ]
  },
  {
   "cell_type": "code",
   "execution_count": 6,
   "id": "e7bdfa8b",
   "metadata": {},
   "outputs": [],
   "source": [
    "# Add our first Dense layer, including the input layer\n",
    "nn_model.add(tf.keras.layers.Dense(units=1, activation=\"relu\", input_dim=2))"
   ]
  },
  {
   "cell_type": "code",
   "execution_count": 7,
   "id": "67c364e4",
   "metadata": {},
   "outputs": [],
   "source": [
    "# Add the output layer that uses a probability activation function\n",
    "nn_model.add(tf.keras.layers.Dense(units=1, activation=\"sigmoid\"))"
   ]
  },
  {
   "cell_type": "code",
   "execution_count": 8,
   "id": "bd0132ca",
   "metadata": {},
   "outputs": [
    {
     "name": "stdout",
     "output_type": "stream",
     "text": [
      "Model: \"sequential\"\n",
      "_________________________________________________________________\n",
      "Layer (type)                 Output Shape              Param #   \n",
      "=================================================================\n",
      "dense (Dense)                (None, 1)                 3         \n",
      "_________________________________________________________________\n",
      "dense_1 (Dense)              (None, 1)                 2         \n",
      "=================================================================\n",
      "Total params: 5\n",
      "Trainable params: 5\n",
      "Non-trainable params: 0\n",
      "_________________________________________________________________\n"
     ]
    }
   ],
   "source": [
    "# Check the structure of the Sequential model\n",
    "nn_model.summary()"
   ]
  },
  {
   "cell_type": "code",
   "execution_count": 9,
   "id": "d3ab7f8c",
   "metadata": {},
   "outputs": [],
   "source": [
    "# Compile the Sequential model together and customize metrics\n",
    "nn_model.compile(loss=\"binary_crossentropy\", optimizer=\"adam\", metrics=[\"accuracy\"])"
   ]
  },
  {
   "cell_type": "code",
   "execution_count": 10,
   "id": "7bdb422f",
   "metadata": {},
   "outputs": [
    {
     "name": "stdout",
     "output_type": "stream",
     "text": [
      "Epoch 1/100\n",
      "24/24 [==============================] - 0s 418us/step - loss: 0.9630 - accuracy: 0.0240\n",
      "Epoch 2/100\n",
      "24/24 [==============================] - 0s 374us/step - loss: 0.9359 - accuracy: 0.0000e+00\n",
      "Epoch 3/100\n",
      "24/24 [==============================] - 0s 416us/step - loss: 0.9120 - accuracy: 0.0000e+00\n",
      "Epoch 4/100\n",
      "24/24 [==============================] - 0s 416us/step - loss: 0.8900 - accuracy: 0.0000e+00\n",
      "Epoch 5/100\n",
      "24/24 [==============================] - 0s 374us/step - loss: 0.8704 - accuracy: 0.0000e+00\n",
      "Epoch 6/100\n",
      "24/24 [==============================] - 0s 416us/step - loss: 0.8527 - accuracy: 0.0000e+00\n",
      "Epoch 7/100\n",
      "24/24 [==============================] - 0s 416us/step - loss: 0.8367 - accuracy: 0.0027\n",
      "Epoch 8/100\n",
      "24/24 [==============================] - 0s 374us/step - loss: 0.8225 - accuracy: 0.0040\n",
      "Epoch 9/100\n",
      "24/24 [==============================] - 0s 374us/step - loss: 0.8095 - accuracy: 0.0067\n",
      "Epoch 10/100\n",
      "24/24 [==============================] - 0s 416us/step - loss: 0.7979 - accuracy: 0.0213\n",
      "Epoch 11/100\n",
      "24/24 [==============================] - 0s 457us/step - loss: 0.7874 - accuracy: 0.0333\n",
      "Epoch 12/100\n",
      "24/24 [==============================] - 0s 416us/step - loss: 0.7777 - accuracy: 0.0533\n",
      "Epoch 13/100\n",
      "24/24 [==============================] - 0s 416us/step - loss: 0.7693 - accuracy: 0.0760\n",
      "Epoch 14/100\n",
      "24/24 [==============================] - 0s 374us/step - loss: 0.7617 - accuracy: 0.1013\n",
      "Epoch 15/100\n",
      "24/24 [==============================] - 0s 374us/step - loss: 0.7550 - accuracy: 0.1360\n",
      "Epoch 16/100\n",
      "24/24 [==============================] - 0s 374us/step - loss: 0.7489 - accuracy: 0.1507\n",
      "Epoch 17/100\n",
      "24/24 [==============================] - 0s 374us/step - loss: 0.7436 - accuracy: 0.1707\n",
      "Epoch 18/100\n",
      "24/24 [==============================] - 0s 374us/step - loss: 0.7390 - accuracy: 0.1787\n",
      "Epoch 19/100\n",
      "24/24 [==============================] - 0s 374us/step - loss: 0.7349 - accuracy: 0.1973\n",
      "Epoch 20/100\n",
      "24/24 [==============================] - 0s 374us/step - loss: 0.7314 - accuracy: 0.2147\n",
      "Epoch 21/100\n",
      "24/24 [==============================] - 0s 374us/step - loss: 0.7282 - accuracy: 0.2240\n",
      "Epoch 22/100\n",
      "24/24 [==============================] - 0s 416us/step - loss: 0.7253 - accuracy: 0.2413\n",
      "Epoch 23/100\n",
      "24/24 [==============================] - 0s 374us/step - loss: 0.7227 - accuracy: 0.2507\n",
      "Epoch 24/100\n",
      "24/24 [==============================] - 0s 416us/step - loss: 0.7204 - accuracy: 0.2627\n",
      "Epoch 25/100\n",
      "24/24 [==============================] - 0s 416us/step - loss: 0.7182 - accuracy: 0.2760\n",
      "Epoch 26/100\n",
      "24/24 [==============================] - 0s 416us/step - loss: 0.7163 - accuracy: 0.2840\n",
      "Epoch 27/100\n",
      "24/24 [==============================] - 0s 416us/step - loss: 0.7145 - accuracy: 0.2907\n",
      "Epoch 28/100\n",
      "24/24 [==============================] - 0s 374us/step - loss: 0.7129 - accuracy: 0.2947\n",
      "Epoch 29/100\n",
      "24/24 [==============================] - 0s 416us/step - loss: 0.7115 - accuracy: 0.3053\n",
      "Epoch 30/100\n",
      "24/24 [==============================] - 0s 416us/step - loss: 0.7102 - accuracy: 0.3120\n",
      "Epoch 31/100\n",
      "24/24 [==============================] - 0s 374us/step - loss: 0.7090 - accuracy: 0.3213\n",
      "Epoch 32/100\n",
      "24/24 [==============================] - 0s 374us/step - loss: 0.7078 - accuracy: 0.3213\n",
      "Epoch 33/100\n",
      "24/24 [==============================] - 0s 374us/step - loss: 0.7069 - accuracy: 0.3333\n",
      "Epoch 34/100\n",
      "24/24 [==============================] - 0s 374us/step - loss: 0.7059 - accuracy: 0.3333\n",
      "Epoch 35/100\n",
      "24/24 [==============================] - 0s 374us/step - loss: 0.7051 - accuracy: 0.3387\n",
      "Epoch 36/100\n",
      "24/24 [==============================] - 0s 416us/step - loss: 0.7044 - accuracy: 0.3467\n",
      "Epoch 37/100\n",
      "24/24 [==============================] - 0s 457us/step - loss: 0.7036 - accuracy: 0.3453\n",
      "Epoch 38/100\n",
      "24/24 [==============================] - 0s 416us/step - loss: 0.7029 - accuracy: 0.3467\n",
      "Epoch 39/100\n",
      "24/24 [==============================] - 0s 416us/step - loss: 0.7023 - accuracy: 0.3507\n",
      "Epoch 40/100\n",
      "24/24 [==============================] - 0s 374us/step - loss: 0.7018 - accuracy: 0.3547\n",
      "Epoch 41/100\n",
      "24/24 [==============================] - 0s 416us/step - loss: 0.7013 - accuracy: 0.3547\n",
      "Epoch 42/100\n",
      "24/24 [==============================] - 0s 416us/step - loss: 0.7008 - accuracy: 0.3560\n",
      "Epoch 43/100\n",
      "24/24 [==============================] - 0s 374us/step - loss: 0.7004 - accuracy: 0.3573\n",
      "Epoch 44/100\n",
      "24/24 [==============================] - 0s 374us/step - loss: 0.7000 - accuracy: 0.3587\n",
      "Epoch 45/100\n",
      "24/24 [==============================] - 0s 374us/step - loss: 0.6996 - accuracy: 0.3587\n",
      "Epoch 46/100\n",
      "24/24 [==============================] - 0s 374us/step - loss: 0.6992 - accuracy: 0.3587\n",
      "Epoch 47/100\n",
      "24/24 [==============================] - 0s 374us/step - loss: 0.6989 - accuracy: 0.3640\n",
      "Epoch 48/100\n",
      "24/24 [==============================] - 0s 416us/step - loss: 0.6986 - accuracy: 0.3653\n",
      "Epoch 49/100\n",
      "24/24 [==============================] - 0s 416us/step - loss: 0.6983 - accuracy: 0.3640\n",
      "Epoch 50/100\n",
      "24/24 [==============================] - 0s 374us/step - loss: 0.6980 - accuracy: 0.3680\n",
      "Epoch 51/100\n",
      "24/24 [==============================] - 0s 373us/step - loss: 0.6977 - accuracy: 0.3733\n",
      "Epoch 52/100\n",
      "24/24 [==============================] - 0s 374us/step - loss: 0.6975 - accuracy: 0.3747\n",
      "Epoch 53/100\n",
      "24/24 [==============================] - 0s 374us/step - loss: 0.6972 - accuracy: 0.3760\n",
      "Epoch 54/100\n",
      "24/24 [==============================] - 0s 374us/step - loss: 0.6971 - accuracy: 0.3827\n",
      "Epoch 55/100\n",
      "24/24 [==============================] - 0s 416us/step - loss: 0.6968 - accuracy: 0.3800\n",
      "Epoch 56/100\n",
      "24/24 [==============================] - 0s 374us/step - loss: 0.6966 - accuracy: 0.4733\n",
      "Epoch 57/100\n",
      "24/24 [==============================] - 0s 374us/step - loss: 0.6965 - accuracy: 0.5067\n",
      "Epoch 58/100\n",
      "24/24 [==============================] - 0s 374us/step - loss: 0.6963 - accuracy: 0.5067\n",
      "Epoch 59/100\n",
      "24/24 [==============================] - 0s 416us/step - loss: 0.6961 - accuracy: 0.5067\n",
      "Epoch 60/100\n",
      "24/24 [==============================] - 0s 457us/step - loss: 0.6960 - accuracy: 0.5067\n",
      "Epoch 61/100\n",
      "24/24 [==============================] - 0s 416us/step - loss: 0.6959 - accuracy: 0.5067\n",
      "Epoch 62/100\n",
      "24/24 [==============================] - 0s 416us/step - loss: 0.6957 - accuracy: 0.5067\n",
      "Epoch 63/100\n",
      "24/24 [==============================] - 0s 416us/step - loss: 0.6956 - accuracy: 0.5067\n",
      "Epoch 64/100\n",
      "24/24 [==============================] - 0s 416us/step - loss: 0.6955 - accuracy: 0.5067\n",
      "Epoch 65/100\n",
      "24/24 [==============================] - 0s 416us/step - loss: 0.6954 - accuracy: 0.5067\n",
      "Epoch 66/100\n",
      "24/24 [==============================] - 0s 457us/step - loss: 0.6953 - accuracy: 0.5067\n",
      "Epoch 67/100\n",
      "24/24 [==============================] - 0s 416us/step - loss: 0.6952 - accuracy: 0.5067\n",
      "Epoch 68/100\n",
      "24/24 [==============================] - 0s 374us/step - loss: 0.6951 - accuracy: 0.5067\n",
      "Epoch 69/100\n",
      "24/24 [==============================] - 0s 374us/step - loss: 0.6950 - accuracy: 0.5067\n",
      "Epoch 70/100\n",
      "24/24 [==============================] - 0s 416us/step - loss: 0.6950 - accuracy: 0.5067\n",
      "Epoch 71/100\n",
      "24/24 [==============================] - 0s 374us/step - loss: 0.6949 - accuracy: 0.5067\n",
      "Epoch 72/100\n",
      "24/24 [==============================] - 0s 374us/step - loss: 0.6948 - accuracy: 0.5067\n",
      "Epoch 73/100\n",
      "24/24 [==============================] - 0s 374us/step - loss: 0.6947 - accuracy: 0.5067\n",
      "Epoch 74/100\n",
      "24/24 [==============================] - 0s 416us/step - loss: 0.6947 - accuracy: 0.5067\n",
      "Epoch 75/100\n",
      "24/24 [==============================] - 0s 416us/step - loss: 0.6946 - accuracy: 0.5067\n",
      "Epoch 76/100\n",
      "24/24 [==============================] - 0s 374us/step - loss: 0.6946 - accuracy: 0.5067\n",
      "Epoch 77/100\n",
      "24/24 [==============================] - 0s 374us/step - loss: 0.6945 - accuracy: 0.5067\n",
      "Epoch 78/100\n",
      "24/24 [==============================] - 0s 416us/step - loss: 0.6945 - accuracy: 0.5067\n",
      "Epoch 79/100\n",
      "24/24 [==============================] - 0s 374us/step - loss: 0.6944 - accuracy: 0.5067\n",
      "Epoch 80/100\n",
      "24/24 [==============================] - 0s 374us/step - loss: 0.6943 - accuracy: 0.5067\n",
      "Epoch 81/100\n"
     ]
    },
    {
     "name": "stdout",
     "output_type": "stream",
     "text": [
      "24/24 [==============================] - 0s 374us/step - loss: 0.6943 - accuracy: 0.5067\n",
      "Epoch 82/100\n",
      "24/24 [==============================] - 0s 374us/step - loss: 0.6942 - accuracy: 0.5067\n",
      "Epoch 83/100\n",
      "24/24 [==============================] - 0s 374us/step - loss: 0.6942 - accuracy: 0.5067\n",
      "Epoch 84/100\n",
      "24/24 [==============================] - 0s 374us/step - loss: 0.6942 - accuracy: 0.5067\n",
      "Epoch 85/100\n",
      "24/24 [==============================] - 0s 374us/step - loss: 0.6941 - accuracy: 0.5067\n",
      "Epoch 86/100\n",
      "24/24 [==============================] - 0s 374us/step - loss: 0.6941 - accuracy: 0.5067\n",
      "Epoch 87/100\n",
      "24/24 [==============================] - 0s 374us/step - loss: 0.6941 - accuracy: 0.5067\n",
      "Epoch 88/100\n",
      "24/24 [==============================] - 0s 416us/step - loss: 0.6941 - accuracy: 0.5067\n",
      "Epoch 89/100\n",
      "24/24 [==============================] - 0s 374us/step - loss: 0.6941 - accuracy: 0.5067\n",
      "Epoch 90/100\n",
      "24/24 [==============================] - 0s 374us/step - loss: 0.6940 - accuracy: 0.5067\n",
      "Epoch 91/100\n",
      "24/24 [==============================] - 0s 374us/step - loss: 0.6939 - accuracy: 0.5067\n",
      "Epoch 92/100\n",
      "24/24 [==============================] - 0s 374us/step - loss: 0.6939 - accuracy: 0.5067\n",
      "Epoch 93/100\n",
      "24/24 [==============================] - 0s 374us/step - loss: 0.6939 - accuracy: 0.5067\n",
      "Epoch 94/100\n",
      "24/24 [==============================] - 0s 374us/step - loss: 0.6939 - accuracy: 0.5067\n",
      "Epoch 95/100\n",
      "24/24 [==============================] - 0s 416us/step - loss: 0.6938 - accuracy: 0.5067\n",
      "Epoch 96/100\n",
      "24/24 [==============================] - 0s 374us/step - loss: 0.6938 - accuracy: 0.5067\n",
      "Epoch 97/100\n",
      "24/24 [==============================] - 0s 374us/step - loss: 0.6938 - accuracy: 0.5067\n",
      "Epoch 98/100\n",
      "24/24 [==============================] - 0s 416us/step - loss: 0.6938 - accuracy: 0.5067\n",
      "Epoch 99/100\n",
      "24/24 [==============================] - 0s 374us/step - loss: 0.6938 - accuracy: 0.5067\n",
      "Epoch 100/100\n",
      "24/24 [==============================] - 0s 374us/step - loss: 0.6937 - accuracy: 0.5067\n"
     ]
    }
   ],
   "source": [
    "# Fit the model to the training data\n",
    "fit_model = nn_model.fit(X_train_scaled, y_train, epochs=100)"
   ]
  },
  {
   "cell_type": "code",
   "execution_count": 11,
   "id": "e406b05c",
   "metadata": {},
   "outputs": [
    {
     "data": {
      "text/plain": [
       "<AxesSubplot:>"
      ]
     },
     "execution_count": 11,
     "metadata": {},
     "output_type": "execute_result"
    },
    {
     "data": {
      "image/png": "[encoded data removed]",
      "text/plain": [
       "<Figure size 432x288 with 1 Axes>"
      ]
     },
     "metadata": {
      "needs_background": "light"
     },
     "output_type": "display_data"
    }
   ],
   "source": [
    "# Create a DataFrame containing training history\n",
    "history_df = pd.DataFrame(fit_model.history, index=range(1,len(fit_model.history[\"loss\"])+1))\n",
    "\n",
    "# Plot the loss\n",
    "history_df.plot(y=\"loss\")"
   ]
  },
  {
   "cell_type": "code",
   "execution_count": 12,
   "id": "de4acfb7",
   "metadata": {},
   "outputs": [
    {
     "data": {
      "text/plain": [
       "<AxesSubplot:>"
      ]
     },
     "execution_count": 12,
     "metadata": {},
     "output_type": "execute_result"
    },
    {
     "data": {
      "image/png": "[encoded data removed]",
      "text/plain": [
       "<Figure size 432x288 with 1 Axes>"
      ]
     },
     "metadata": {
      "needs_background": "light"
     },
     "output_type": "display_data"
    }
   ],
   "source": [
    "# Plot the accuracy\n",
    "history_df.plot(y=\"accuracy\")"
   ]
  },
  {
   "cell_type": "code",
   "execution_count": 13,
   "id": "663c9bdc",
   "metadata": {},
   "outputs": [
    {
     "name": "stdout",
     "output_type": "stream",
     "text": [
      "8/8 - 0s - loss: 0.6942 - accuracy: 0.4800\n",
      "Loss: 0.694155216217041, Accuracy: 0.47999998927116394\n"
     ]
    }
   ],
   "source": [
    "# Evaluate the model using the test data\n",
    "model_loss, model_accuracy = nn_model.evaluate(X_test_scaled,y_test,verbose=2)\n",
    "print(f\"Loss: {model_loss}, Accuracy: {model_accuracy}\")"
   ]
  },
  {
   "cell_type": "code",
   "execution_count": 14,
   "id": "fcf5fca2",
   "metadata": {},
   "outputs": [
    {
     "data": {
      "text/plain": [
       "array([[0],\n",
       "       [0],\n",
       "       [0],\n",
       "       [0],\n",
       "       [0],\n",
       "       [0],\n",
       "       [0],\n",
       "       [0],\n",
       "       [0],\n",
       "       [0]])"
      ]
     },
     "execution_count": 14,
     "metadata": {},
     "output_type": "execute_result"
    }
   ],
   "source": [
    "# Predict the classification of a new set of blob data\n",
    "new_X, new_Y = make_blobs(n_samples=10, centers=2, n_features=2, random_state=78)\n",
    "new_X_scaled = X_scaler.transform(new_X)\n",
    "(nn_model.predict(new_X_scaled) > 0.5).astype(\"int32\")"
   ]
  },
  {
   "cell_type": "code",
   "execution_count": 15,
   "id": "f7b8678b",
   "metadata": {},
   "outputs": [
    {
     "data": {
      "text/plain": [
       "<AxesSubplot:xlabel='Feature 1', ylabel='Feature 2'>"
      ]
     },
     "execution_count": 15,
     "metadata": {},
     "output_type": "execute_result"
    },
    {
     "data": {
      "image/png": "[encoded data removed]",
      "text/plain": [
       "<Figure size 432x288 with 2 Axes>"
      ]
     },
     "metadata": {
      "needs_background": "light"
     },
     "output_type": "display_data"
    }
   ],
   "source": [
    "from sklearn.datasets import make_moons\n",
    "\n",
    "# Creating dummy nonlinear data\n",
    "X_moons, y_moons = make_moons(n_samples=1000, noise=0.08, random_state=78)\n",
    "\n",
    "# Transforming y_moons to a vertical vector\n",
    "y_moons = y_moons.reshape(-1, 1)\n",
    "\n",
    "# Creating a DataFrame to plot the nonlinear dummy data\n",
    "df_moons = pd.DataFrame(X_moons, columns=[\"Feature 1\", \"Feature 2\"])\n",
    "df_moons[\"Target\"] = y_moons\n",
    "\n",
    "# Plot the nonlinear dummy data\n",
    "df_moons.plot.scatter(x=\"Feature 1\",y=\"Feature 2\", c=\"Target\",colormap=\"winter\")"
   ]
  },
  {
   "cell_type": "code",
   "execution_count": 16,
   "id": "9dda9fc9",
   "metadata": {},
   "outputs": [],
   "source": [
    "# Create training and testing sets\n",
    "X_moon_train, X_moon_test, y_moon_train, y_moon_test = train_test_split(\n",
    "    X_moons, y_moons, random_state=78\n",
    ")\n",
    "\n",
    "# Create the scaler instance\n",
    "X_moon_scaler = skl.preprocessing.StandardScaler()\n",
    "\n",
    "# Fit the scaler\n",
    "X_moon_scaler.fit(X_moon_train)\n",
    "\n",
    "# Scale the data\n",
    "X_moon_train_scaled = X_moon_scaler.transform(X_moon_train)\n",
    "X_moon_test_scaled = X_moon_scaler.transform(X_moon_test)"
   ]
  },
  {
   "cell_type": "code",
   "execution_count": 17,
   "id": "241baf79",
   "metadata": {},
   "outputs": [
    {
     "name": "stdout",
     "output_type": "stream",
     "text": [
      "Epoch 1/100\n",
      "24/24 [==============================] - 0s 623us/step - loss: 0.7025 - accuracy: 0.5307\n",
      "Epoch 2/100\n",
      "24/24 [==============================] - 0s 582us/step - loss: 0.7000 - accuracy: 0.5307\n",
      "Epoch 3/100\n",
      "24/24 [==============================] - 0s 623us/step - loss: 0.6977 - accuracy: 0.5307\n",
      "Epoch 4/100\n",
      "24/24 [==============================] - 0s 540us/step - loss: 0.6958 - accuracy: 0.5307\n",
      "Epoch 5/100\n",
      "24/24 [==============================] - 0s 623us/step - loss: 0.6944 - accuracy: 0.5307\n",
      "Epoch 6/100\n",
      "24/24 [==============================] - 0s 581us/step - loss: 0.6931 - accuracy: 0.5307\n",
      "Epoch 7/100\n",
      "24/24 [==============================] - 0s 582us/step - loss: 0.6919 - accuracy: 0.5307\n",
      "Epoch 8/100\n",
      "24/24 [==============================] - 0s 540us/step - loss: 0.6908 - accuracy: 0.5307\n",
      "Epoch 9/100\n",
      "24/24 [==============================] - 0s 623us/step - loss: 0.6896 - accuracy: 0.5307\n",
      "Epoch 10/100\n",
      "24/24 [==============================] - 0s 540us/step - loss: 0.6883 - accuracy: 0.5307\n",
      "Epoch 11/100\n",
      "24/24 [==============================] - 0s 582us/step - loss: 0.6868 - accuracy: 0.5307\n",
      "Epoch 12/100\n",
      "24/24 [==============================] - 0s 582us/step - loss: 0.6850 - accuracy: 0.5453\n",
      "Epoch 13/100\n",
      "24/24 [==============================] - 0s 582us/step - loss: 0.6827 - accuracy: 0.6093\n",
      "Epoch 14/100\n",
      "24/24 [==============================] - 0s 582us/step - loss: 0.6798 - accuracy: 0.6653\n",
      "Epoch 15/100\n",
      "24/24 [==============================] - 0s 582us/step - loss: 0.6761 - accuracy: 0.7160\n",
      "Epoch 16/100\n",
      "24/24 [==============================] - 0s 582us/step - loss: 0.6713 - accuracy: 0.7640\n",
      "Epoch 17/100\n",
      "24/24 [==============================] - 0s 582us/step - loss: 0.6655 - accuracy: 0.7840\n",
      "Epoch 18/100\n",
      "24/24 [==============================] - 0s 582us/step - loss: 0.6581 - accuracy: 0.8080\n",
      "Epoch 19/100\n",
      "24/24 [==============================] - 0s 582us/step - loss: 0.6493 - accuracy: 0.8280\n",
      "Epoch 20/100\n",
      "24/24 [==============================] - 0s 623us/step - loss: 0.6390 - accuracy: 0.8440\n",
      "Epoch 21/100\n",
      "24/24 [==============================] - 0s 582us/step - loss: 0.6270 - accuracy: 0.8440\n",
      "Epoch 22/100\n",
      "24/24 [==============================] - 0s 582us/step - loss: 0.6137 - accuracy: 0.8453\n",
      "Epoch 23/100\n",
      "24/24 [==============================] - 0s 582us/step - loss: 0.5996 - accuracy: 0.8560\n",
      "Epoch 24/100\n",
      "24/24 [==============================] - 0s 582us/step - loss: 0.5848 - accuracy: 0.8507\n",
      "Epoch 25/100\n",
      "24/24 [==============================] - 0s 582us/step - loss: 0.5704 - accuracy: 0.8587\n",
      "Epoch 26/100\n",
      "24/24 [==============================] - 0s 582us/step - loss: 0.5559 - accuracy: 0.8627\n",
      "Epoch 27/100\n",
      "24/24 [==============================] - 0s 623us/step - loss: 0.5422 - accuracy: 0.8600\n",
      "Epoch 28/100\n",
      "24/24 [==============================] - 0s 540us/step - loss: 0.5290 - accuracy: 0.8600\n",
      "Epoch 29/100\n",
      "24/24 [==============================] - 0s 582us/step - loss: 0.5171 - accuracy: 0.8587\n",
      "Epoch 30/100\n",
      "24/24 [==============================] - 0s 582us/step - loss: 0.5058 - accuracy: 0.8587\n",
      "Epoch 31/100\n",
      "24/24 [==============================] - 0s 582us/step - loss: 0.4955 - accuracy: 0.8560\n",
      "Epoch 32/100\n",
      "24/24 [==============================] - 0s 582us/step - loss: 0.4859 - accuracy: 0.8560\n",
      "Epoch 33/100\n",
      "24/24 [==============================] - 0s 582us/step - loss: 0.4769 - accuracy: 0.8560\n",
      "Epoch 34/100\n",
      "24/24 [==============================] - 0s 582us/step - loss: 0.4686 - accuracy: 0.8560\n",
      "Epoch 35/100\n",
      "24/24 [==============================] - 0s 623us/step - loss: 0.4609 - accuracy: 0.8587\n",
      "Epoch 36/100\n",
      "24/24 [==============================] - 0s 582us/step - loss: 0.4535 - accuracy: 0.8587\n",
      "Epoch 37/100\n",
      "24/24 [==============================] - 0s 623us/step - loss: 0.4466 - accuracy: 0.8600\n",
      "Epoch 38/100\n",
      "24/24 [==============================] - 0s 623us/step - loss: 0.4400 - accuracy: 0.8600\n",
      "Epoch 39/100\n",
      "24/24 [==============================] - 0s 623us/step - loss: 0.4340 - accuracy: 0.8600\n",
      "Epoch 40/100\n",
      "24/24 [==============================] - 0s 582us/step - loss: 0.4281 - accuracy: 0.8600\n",
      "Epoch 41/100\n",
      "24/24 [==============================] - 0s 582us/step - loss: 0.4227 - accuracy: 0.8613\n",
      "Epoch 42/100\n",
      "24/24 [==============================] - 0s 582us/step - loss: 0.4176 - accuracy: 0.8653\n",
      "Epoch 43/100\n",
      "24/24 [==============================] - 0s 623us/step - loss: 0.4127 - accuracy: 0.8653\n",
      "Epoch 44/100\n",
      "24/24 [==============================] - 0s 623us/step - loss: 0.4082 - accuracy: 0.8667\n",
      "Epoch 45/100\n",
      "24/24 [==============================] - 0s 623us/step - loss: 0.4037 - accuracy: 0.8667\n",
      "Epoch 46/100\n",
      "24/24 [==============================] - 0s 582us/step - loss: 0.3994 - accuracy: 0.8667\n",
      "Epoch 47/100\n",
      "24/24 [==============================] - 0s 623us/step - loss: 0.3953 - accuracy: 0.8680\n",
      "Epoch 48/100\n",
      "24/24 [==============================] - 0s 582us/step - loss: 0.3914 - accuracy: 0.8693\n",
      "Epoch 49/100\n",
      "24/24 [==============================] - 0s 582us/step - loss: 0.3877 - accuracy: 0.8693\n",
      "Epoch 50/100\n",
      "24/24 [==============================] - 0s 582us/step - loss: 0.3841 - accuracy: 0.8707\n",
      "Epoch 51/100\n",
      "24/24 [==============================] - 0s 582us/step - loss: 0.3806 - accuracy: 0.8733\n",
      "Epoch 52/100\n",
      "24/24 [==============================] - 0s 582us/step - loss: 0.3772 - accuracy: 0.8733\n",
      "Epoch 53/100\n",
      "24/24 [==============================] - 0s 623us/step - loss: 0.3740 - accuracy: 0.8747\n",
      "Epoch 54/100\n",
      "24/24 [==============================] - 0s 582us/step - loss: 0.3709 - accuracy: 0.8747\n",
      "Epoch 55/100\n",
      "24/24 [==============================] - 0s 561us/step - loss: 0.3678 - accuracy: 0.8747\n",
      "Epoch 56/100\n",
      "24/24 [==============================] - 0s 582us/step - loss: 0.3650 - accuracy: 0.8760\n",
      "Epoch 57/100\n",
      "24/24 [==============================] - 0s 582us/step - loss: 0.3622 - accuracy: 0.8760\n",
      "Epoch 58/100\n",
      "24/24 [==============================] - 0s 540us/step - loss: 0.3595 - accuracy: 0.8773\n",
      "Epoch 59/100\n",
      "24/24 [==============================] - 0s 582us/step - loss: 0.3569 - accuracy: 0.8773\n",
      "Epoch 60/100\n",
      "24/24 [==============================] - 0s 582us/step - loss: 0.3544 - accuracy: 0.8773\n",
      "Epoch 61/100\n",
      "24/24 [==============================] - 0s 540us/step - loss: 0.3520 - accuracy: 0.8773\n",
      "Epoch 62/100\n",
      "24/24 [==============================] - 0s 582us/step - loss: 0.3496 - accuracy: 0.8760\n",
      "Epoch 63/100\n",
      "24/24 [==============================] - 0s 582us/step - loss: 0.3473 - accuracy: 0.8773\n",
      "Epoch 64/100\n",
      "24/24 [==============================] - 0s 623us/step - loss: 0.3449 - accuracy: 0.8787\n",
      "Epoch 65/100\n",
      "24/24 [==============================] - 0s 582us/step - loss: 0.3427 - accuracy: 0.8800\n",
      "Epoch 66/100\n",
      "24/24 [==============================] - 0s 582us/step - loss: 0.3404 - accuracy: 0.8827\n",
      "Epoch 67/100\n",
      "24/24 [==============================] - 0s 582us/step - loss: 0.3383 - accuracy: 0.8827\n",
      "Epoch 68/100\n",
      "24/24 [==============================] - 0s 582us/step - loss: 0.3362 - accuracy: 0.8827\n",
      "Epoch 69/100\n",
      "24/24 [==============================] - 0s 582us/step - loss: 0.3343 - accuracy: 0.8827\n",
      "Epoch 70/100\n",
      "24/24 [==============================] - 0s 582us/step - loss: 0.3324 - accuracy: 0.8840\n",
      "Epoch 71/100\n",
      "24/24 [==============================] - 0s 623us/step - loss: 0.3305 - accuracy: 0.8840\n",
      "Epoch 72/100\n",
      "24/24 [==============================] - 0s 582us/step - loss: 0.3288 - accuracy: 0.8840\n",
      "Epoch 73/100\n",
      "24/24 [==============================] - 0s 582us/step - loss: 0.3270 - accuracy: 0.8867\n",
      "Epoch 74/100\n",
      "24/24 [==============================] - 0s 582us/step - loss: 0.3254 - accuracy: 0.8867\n",
      "Epoch 75/100\n",
      "24/24 [==============================] - 0s 540us/step - loss: 0.3239 - accuracy: 0.8853\n",
      "Epoch 76/100\n",
      "24/24 [==============================] - 0s 582us/step - loss: 0.3223 - accuracy: 0.8840\n",
      "Epoch 77/100\n",
      "24/24 [==============================] - 0s 582us/step - loss: 0.3209 - accuracy: 0.8840\n",
      "Epoch 78/100\n",
      "24/24 [==============================] - 0s 582us/step - loss: 0.3195 - accuracy: 0.8853\n",
      "Epoch 79/100\n",
      "24/24 [==============================] - 0s 582us/step - loss: 0.3181 - accuracy: 0.8867\n",
      "Epoch 80/100\n",
      "24/24 [==============================] - 0s 582us/step - loss: 0.3169 - accuracy: 0.8853\n",
      "Epoch 81/100\n"
     ]
    },
    {
     "name": "stdout",
     "output_type": "stream",
     "text": [
      "24/24 [==============================] - 0s 582us/step - loss: 0.3157 - accuracy: 0.8867\n",
      "Epoch 82/100\n",
      "24/24 [==============================] - 0s 582us/step - loss: 0.3144 - accuracy: 0.8880\n",
      "Epoch 83/100\n",
      "24/24 [==============================] - 0s 582us/step - loss: 0.3133 - accuracy: 0.8893\n",
      "Epoch 84/100\n",
      "24/24 [==============================] - 0s 540us/step - loss: 0.3122 - accuracy: 0.8893\n",
      "Epoch 85/100\n",
      "24/24 [==============================] - 0s 540us/step - loss: 0.3111 - accuracy: 0.8893\n",
      "Epoch 86/100\n",
      "24/24 [==============================] - 0s 582us/step - loss: 0.3101 - accuracy: 0.8893\n",
      "Epoch 87/100\n",
      "24/24 [==============================] - 0s 582us/step - loss: 0.3091 - accuracy: 0.8893\n",
      "Epoch 88/100\n",
      "24/24 [==============================] - 0s 582us/step - loss: 0.3081 - accuracy: 0.8907\n",
      "Epoch 89/100\n",
      "24/24 [==============================] - 0s 540us/step - loss: 0.3071 - accuracy: 0.8907\n",
      "Epoch 90/100\n",
      "24/24 [==============================] - 0s 582us/step - loss: 0.3062 - accuracy: 0.8907\n",
      "Epoch 91/100\n",
      "24/24 [==============================] - 0s 582us/step - loss: 0.3053 - accuracy: 0.8907\n",
      "Epoch 92/100\n",
      "24/24 [==============================] - 0s 582us/step - loss: 0.3045 - accuracy: 0.8920\n",
      "Epoch 93/100\n",
      "24/24 [==============================] - 0s 582us/step - loss: 0.3035 - accuracy: 0.8920\n",
      "Epoch 94/100\n",
      "24/24 [==============================] - 0s 582us/step - loss: 0.3027 - accuracy: 0.8920\n",
      "Epoch 95/100\n",
      "24/24 [==============================] - 0s 582us/step - loss: 0.3020 - accuracy: 0.8920\n",
      "Epoch 96/100\n",
      "24/24 [==============================] - 0s 582us/step - loss: 0.3012 - accuracy: 0.8920\n",
      "Epoch 97/100\n",
      "24/24 [==============================] - 0s 540us/step - loss: 0.3004 - accuracy: 0.8920\n",
      "Epoch 98/100\n",
      "24/24 [==============================] - 0s 582us/step - loss: 0.2997 - accuracy: 0.8920\n",
      "Epoch 99/100\n",
      "24/24 [==============================] - 0s 582us/step - loss: 0.2990 - accuracy: 0.8920\n",
      "Epoch 100/100\n",
      "24/24 [==============================] - 0s 540us/step - loss: 0.2983 - accuracy: 0.8920\n"
     ]
    }
   ],
   "source": [
    "# Training the model with the nonlinear data\n",
    "model_moon = nn_model.fit(X_moon_train_scaled, y_moon_train, epochs=100, shuffle=True)"
   ]
  },
  {
   "cell_type": "code",
   "execution_count": 18,
   "id": "816d8790",
   "metadata": {},
   "outputs": [
    {
     "data": {
      "text/plain": [
       "<AxesSubplot:>"
      ]
     },
     "execution_count": 18,
     "metadata": {},
     "output_type": "execute_result"
    },
    {
     "data": {
      "image/png": "[encoded data removed]",
      "text/plain": [
       "<Figure size 432x288 with 1 Axes>"
      ]
     },
     "metadata": {
      "needs_background": "light"
     },
     "output_type": "display_data"
    }
   ],
   "source": [
    "# Create a DataFrame containing training history\n",
    "history_df = pd.DataFrame(model_moon.history, index=range(1,len(model_moon.history[\"loss\"])+1))\n",
    "\n",
    "# Plot the loss\n",
    "history_df.plot(y=\"loss\")"
   ]
  },
  {
   "cell_type": "code",
   "execution_count": 19,
   "id": "6961b1af",
   "metadata": {},
   "outputs": [
    {
     "data": {
      "text/plain": [
       "<AxesSubplot:>"
      ]
     },
     "execution_count": 19,
     "metadata": {},
     "output_type": "execute_result"
    },
    {
     "data": {
      "image/png": "[encoded data removed]",
      "text/plain": [
       "<Figure size 432x288 with 1 Axes>"
      ]
     },
     "metadata": {
      "needs_background": "light"
     },
     "output_type": "display_data"
    }
   ],
   "source": [
    "# Plot the accuracy\n",
    "history_df.plot(y=\"accuracy\")"
   ]
  },
  {
   "cell_type": "code",
   "execution_count": 20,
   "id": "65b2df32",
   "metadata": {},
   "outputs": [],
   "source": [
    "# Generate our new Sequential model\n",
    "new_model = tf.keras.models.Sequential()"
   ]
  },
  {
   "cell_type": "code",
   "execution_count": 21,
   "id": "3693cdc9",
   "metadata": {},
   "outputs": [],
   "source": [
    "# Add the input and hidden layer\n",
    "number_inputs = 2\n",
    "number_hidden_nodes = 6\n",
    "\n",
    "new_model.add(tf.keras.layers.Dense(units=number_hidden_nodes, activation=\"relu\", input_dim=number_inputs))\n",
    "\n",
    "# Add the output layer that uses a probability activation function\n",
    "new_model.add(tf.keras.layers.Dense(units=1, activation=\"sigmoid\"))"
   ]
  },
  {
   "cell_type": "code",
   "execution_count": 22,
   "id": "9b930692",
   "metadata": {},
   "outputs": [
    {
     "name": "stdout",
     "output_type": "stream",
     "text": [
      "Epoch 1/100\n",
      "24/24 [==============================] - 0s 416us/step - loss: 0.7393 - accuracy: 0.4173\n",
      "Epoch 2/100\n",
      "24/24 [==============================] - 0s 374us/step - loss: 0.7056 - accuracy: 0.4547\n",
      "Epoch 3/100\n",
      "24/24 [==============================] - 0s 374us/step - loss: 0.6756 - accuracy: 0.4880\n",
      "Epoch 4/100\n",
      "24/24 [==============================] - 0s 374us/step - loss: 0.6481 - accuracy: 0.5227\n",
      "Epoch 5/100\n",
      "24/24 [==============================] - 0s 457us/step - loss: 0.6233 - accuracy: 0.5680\n",
      "Epoch 6/100\n",
      "24/24 [==============================] - 0s 374us/step - loss: 0.6001 - accuracy: 0.6160\n",
      "Epoch 7/100\n",
      "24/24 [==============================] - 0s 374us/step - loss: 0.5786 - accuracy: 0.6573\n",
      "Epoch 8/100\n",
      "24/24 [==============================] - 0s 416us/step - loss: 0.5577 - accuracy: 0.7013\n",
      "Epoch 9/100\n",
      "24/24 [==============================] - 0s 374us/step - loss: 0.5381 - accuracy: 0.7280\n",
      "Epoch 10/100\n",
      "24/24 [==============================] - 0s 374us/step - loss: 0.5195 - accuracy: 0.7400\n",
      "Epoch 11/100\n",
      "24/24 [==============================] - 0s 416us/step - loss: 0.5017 - accuracy: 0.7493\n",
      "Epoch 12/100\n",
      "24/24 [==============================] - 0s 374us/step - loss: 0.4854 - accuracy: 0.7613\n",
      "Epoch 13/100\n",
      "24/24 [==============================] - 0s 374us/step - loss: 0.4702 - accuracy: 0.7640\n",
      "Epoch 14/100\n",
      "24/24 [==============================] - 0s 374us/step - loss: 0.4563 - accuracy: 0.7707\n",
      "Epoch 15/100\n",
      "24/24 [==============================] - 0s 374us/step - loss: 0.4435 - accuracy: 0.7760\n",
      "Epoch 16/100\n",
      "24/24 [==============================] - 0s 374us/step - loss: 0.4319 - accuracy: 0.7840\n",
      "Epoch 17/100\n",
      "24/24 [==============================] - 0s 416us/step - loss: 0.4211 - accuracy: 0.7893\n",
      "Epoch 18/100\n",
      "24/24 [==============================] - 0s 416us/step - loss: 0.4114 - accuracy: 0.7933\n",
      "Epoch 19/100\n",
      "24/24 [==============================] - 0s 416us/step - loss: 0.4023 - accuracy: 0.7987\n",
      "Epoch 20/100\n",
      "24/24 [==============================] - 0s 416us/step - loss: 0.3938 - accuracy: 0.8013\n",
      "Epoch 21/100\n",
      "24/24 [==============================] - 0s 374us/step - loss: 0.3858 - accuracy: 0.8040\n",
      "Epoch 22/100\n",
      "24/24 [==============================] - 0s 374us/step - loss: 0.3782 - accuracy: 0.8080\n",
      "Epoch 23/100\n",
      "24/24 [==============================] - 0s 374us/step - loss: 0.3710 - accuracy: 0.8107\n",
      "Epoch 24/100\n",
      "24/24 [==============================] - 0s 416us/step - loss: 0.3643 - accuracy: 0.8173\n",
      "Epoch 25/100\n",
      "24/24 [==============================] - 0s 416us/step - loss: 0.3578 - accuracy: 0.8227\n",
      "Epoch 26/100\n",
      "24/24 [==============================] - 0s 374us/step - loss: 0.3519 - accuracy: 0.8280\n",
      "Epoch 27/100\n",
      "24/24 [==============================] - 0s 416us/step - loss: 0.3461 - accuracy: 0.8307\n",
      "Epoch 28/100\n",
      "24/24 [==============================] - 0s 375us/step - loss: 0.3408 - accuracy: 0.8320\n",
      "Epoch 29/100\n",
      "24/24 [==============================] - 0s 416us/step - loss: 0.3357 - accuracy: 0.8360\n",
      "Epoch 30/100\n",
      "24/24 [==============================] - 0s 416us/step - loss: 0.3309 - accuracy: 0.8387\n",
      "Epoch 31/100\n",
      "24/24 [==============================] - 0s 416us/step - loss: 0.3263 - accuracy: 0.8440\n",
      "Epoch 32/100\n",
      "24/24 [==============================] - 0s 374us/step - loss: 0.3219 - accuracy: 0.8480\n",
      "Epoch 33/100\n",
      "24/24 [==============================] - 0s 374us/step - loss: 0.3180 - accuracy: 0.8547\n",
      "Epoch 34/100\n",
      "24/24 [==============================] - 0s 374us/step - loss: 0.3140 - accuracy: 0.8560\n",
      "Epoch 35/100\n",
      "24/24 [==============================] - 0s 374us/step - loss: 0.3105 - accuracy: 0.8613\n",
      "Epoch 36/100\n",
      "24/24 [==============================] - 0s 374us/step - loss: 0.3069 - accuracy: 0.8627\n",
      "Epoch 37/100\n",
      "24/24 [==============================] - 0s 416us/step - loss: 0.3035 - accuracy: 0.8653\n",
      "Epoch 38/100\n",
      "24/24 [==============================] - 0s 416us/step - loss: 0.3002 - accuracy: 0.8653\n",
      "Epoch 39/100\n",
      "24/24 [==============================] - 0s 374us/step - loss: 0.2970 - accuracy: 0.8653\n",
      "Epoch 40/100\n",
      "24/24 [==============================] - 0s 416us/step - loss: 0.2940 - accuracy: 0.8680\n",
      "Epoch 41/100\n",
      "24/24 [==============================] - 0s 416us/step - loss: 0.2910 - accuracy: 0.8693\n",
      "Epoch 42/100\n",
      "24/24 [==============================] - 0s 416us/step - loss: 0.2881 - accuracy: 0.8707\n",
      "Epoch 43/100\n",
      "24/24 [==============================] - 0s 416us/step - loss: 0.2855 - accuracy: 0.8720\n",
      "Epoch 44/100\n",
      "24/24 [==============================] - 0s 374us/step - loss: 0.2830 - accuracy: 0.8720\n",
      "Epoch 45/100\n",
      "24/24 [==============================] - 0s 416us/step - loss: 0.2805 - accuracy: 0.8720\n",
      "Epoch 46/100\n",
      "24/24 [==============================] - 0s 416us/step - loss: 0.2784 - accuracy: 0.8733\n",
      "Epoch 47/100\n",
      "24/24 [==============================] - 0s 374us/step - loss: 0.2762 - accuracy: 0.8747\n",
      "Epoch 48/100\n",
      "24/24 [==============================] - 0s 416us/step - loss: 0.2742 - accuracy: 0.8760\n",
      "Epoch 49/100\n",
      "24/24 [==============================] - 0s 416us/step - loss: 0.2722 - accuracy: 0.8760\n",
      "Epoch 50/100\n",
      "24/24 [==============================] - 0s 416us/step - loss: 0.2703 - accuracy: 0.8773\n",
      "Epoch 51/100\n",
      "24/24 [==============================] - 0s 416us/step - loss: 0.2686 - accuracy: 0.8813\n",
      "Epoch 52/100\n",
      "24/24 [==============================] - 0s 416us/step - loss: 0.2668 - accuracy: 0.8840\n",
      "Epoch 53/100\n",
      "24/24 [==============================] - 0s 416us/step - loss: 0.2652 - accuracy: 0.8853\n",
      "Epoch 54/100\n",
      "24/24 [==============================] - 0s 416us/step - loss: 0.2636 - accuracy: 0.8880\n",
      "Epoch 55/100\n",
      "24/24 [==============================] - 0s 374us/step - loss: 0.2622 - accuracy: 0.8893\n",
      "Epoch 56/100\n",
      "24/24 [==============================] - 0s 416us/step - loss: 0.2607 - accuracy: 0.8907\n",
      "Epoch 57/100\n",
      "24/24 [==============================] - 0s 416us/step - loss: 0.2594 - accuracy: 0.8920\n",
      "Epoch 58/100\n",
      "24/24 [==============================] - 0s 416us/step - loss: 0.2582 - accuracy: 0.8920\n",
      "Epoch 59/100\n",
      "24/24 [==============================] - 0s 374us/step - loss: 0.2571 - accuracy: 0.8933\n",
      "Epoch 60/100\n",
      "24/24 [==============================] - 0s 416us/step - loss: 0.2560 - accuracy: 0.8920\n",
      "Epoch 61/100\n",
      "24/24 [==============================] - 0s 377us/step - loss: 0.2551 - accuracy: 0.8920\n",
      "Epoch 62/100\n",
      "24/24 [==============================] - 0s 374us/step - loss: 0.2543 - accuracy: 0.8920\n",
      "Epoch 63/100\n",
      "24/24 [==============================] - 0s 374us/step - loss: 0.2535 - accuracy: 0.8920\n",
      "Epoch 64/100\n",
      "24/24 [==============================] - 0s 374us/step - loss: 0.2527 - accuracy: 0.8920\n",
      "Epoch 65/100\n",
      "24/24 [==============================] - 0s 416us/step - loss: 0.2519 - accuracy: 0.8920\n",
      "Epoch 66/100\n",
      "24/24 [==============================] - 0s 416us/step - loss: 0.2512 - accuracy: 0.8933\n",
      "Epoch 67/100\n",
      "24/24 [==============================] - 0s 416us/step - loss: 0.2506 - accuracy: 0.8933\n",
      "Epoch 68/100\n",
      "24/24 [==============================] - 0s 374us/step - loss: 0.2499 - accuracy: 0.8933\n",
      "Epoch 69/100\n",
      "24/24 [==============================] - 0s 416us/step - loss: 0.2494 - accuracy: 0.8933\n",
      "Epoch 70/100\n",
      "24/24 [==============================] - 0s 374us/step - loss: 0.2488 - accuracy: 0.8920\n",
      "Epoch 71/100\n",
      "24/24 [==============================] - 0s 416us/step - loss: 0.2483 - accuracy: 0.8907\n",
      "Epoch 72/100\n",
      "24/24 [==============================] - 0s 374us/step - loss: 0.2478 - accuracy: 0.8907\n",
      "Epoch 73/100\n",
      "24/24 [==============================] - 0s 374us/step - loss: 0.2473 - accuracy: 0.8907\n",
      "Epoch 74/100\n",
      "24/24 [==============================] - 0s 374us/step - loss: 0.2469 - accuracy: 0.8907\n",
      "Epoch 75/100\n",
      "24/24 [==============================] - 0s 416us/step - loss: 0.2464 - accuracy: 0.8907\n",
      "Epoch 76/100\n",
      "24/24 [==============================] - 0s 416us/step - loss: 0.2460 - accuracy: 0.8907\n",
      "Epoch 77/100\n",
      "24/24 [==============================] - 0s 374us/step - loss: 0.2456 - accuracy: 0.8920\n",
      "Epoch 78/100\n",
      "24/24 [==============================] - 0s 416us/step - loss: 0.2451 - accuracy: 0.8920\n",
      "Epoch 79/100\n",
      "24/24 [==============================] - 0s 374us/step - loss: 0.2447 - accuracy: 0.8920\n",
      "Epoch 80/100\n",
      "24/24 [==============================] - 0s 374us/step - loss: 0.2445 - accuracy: 0.8920\n",
      "Epoch 81/100\n"
     ]
    },
    {
     "name": "stdout",
     "output_type": "stream",
     "text": [
      "24/24 [==============================] - 0s 374us/step - loss: 0.2438 - accuracy: 0.8920\n",
      "Epoch 82/100\n",
      "24/24 [==============================] - 0s 374us/step - loss: 0.2434 - accuracy: 0.8920\n",
      "Epoch 83/100\n",
      "24/24 [==============================] - 0s 374us/step - loss: 0.2430 - accuracy: 0.8920\n",
      "Epoch 84/100\n",
      "24/24 [==============================] - 0s 416us/step - loss: 0.2425 - accuracy: 0.8920\n",
      "Epoch 85/100\n",
      "24/24 [==============================] - 0s 374us/step - loss: 0.2421 - accuracy: 0.8920\n",
      "Epoch 86/100\n",
      "24/24 [==============================] - 0s 416us/step - loss: 0.2417 - accuracy: 0.8920\n",
      "Epoch 87/100\n",
      "24/24 [==============================] - 0s 416us/step - loss: 0.2412 - accuracy: 0.8920\n",
      "Epoch 88/100\n",
      "24/24 [==============================] - 0s 374us/step - loss: 0.2409 - accuracy: 0.8920\n",
      "Epoch 89/100\n",
      "24/24 [==============================] - 0s 374us/step - loss: 0.2404 - accuracy: 0.8920\n",
      "Epoch 90/100\n",
      "24/24 [==============================] - 0s 374us/step - loss: 0.2400 - accuracy: 0.8920\n",
      "Epoch 91/100\n",
      "24/24 [==============================] - 0s 374us/step - loss: 0.2396 - accuracy: 0.8920\n",
      "Epoch 92/100\n",
      "24/24 [==============================] - 0s 374us/step - loss: 0.2392 - accuracy: 0.8933\n",
      "Epoch 93/100\n",
      "24/24 [==============================] - 0s 416us/step - loss: 0.2387 - accuracy: 0.8920\n",
      "Epoch 94/100\n",
      "24/24 [==============================] - 0s 416us/step - loss: 0.2384 - accuracy: 0.8920\n",
      "Epoch 95/100\n",
      "24/24 [==============================] - 0s 374us/step - loss: 0.2379 - accuracy: 0.8933\n",
      "Epoch 96/100\n",
      "24/24 [==============================] - 0s 416us/step - loss: 0.2375 - accuracy: 0.8920\n",
      "Epoch 97/100\n",
      "24/24 [==============================] - 0s 374us/step - loss: 0.2371 - accuracy: 0.8933\n",
      "Epoch 98/100\n",
      "24/24 [==============================] - 0s 416us/step - loss: 0.2366 - accuracy: 0.8933\n",
      "Epoch 99/100\n",
      "24/24 [==============================] - 0s 374us/step - loss: 0.2363 - accuracy: 0.8933\n",
      "Epoch 100/100\n",
      "24/24 [==============================] - 0s 374us/step - loss: 0.2358 - accuracy: 0.8933\n"
     ]
    }
   ],
   "source": [
    "# Compile the Sequential model together and customize metrics\n",
    "new_model.compile(loss=\"binary_crossentropy\", optimizer=\"adam\", metrics=[\"accuracy\"])\n",
    "\n",
    "# Fit the model to the training data\n",
    "new_fit_model = new_model.fit(X_moon_train_scaled, y_moon_train, epochs=100, shuffle=True)"
   ]
  },
  {
   "cell_type": "code",
   "execution_count": null,
   "id": "20cc376b",
   "metadata": {},
   "outputs": [],
   "source": []
  }
 ],
 "metadata": {
  "kernelspec": {
   "display_name": "mlenv",
   "language": "python",
   "name": "mlenv"
  },
  "language_info": {
   "codemirror_mode": {
    "name": "ipython",
    "version": 3
   },
   "file_extension": ".py",
   "mimetype": "text/x-python",
   "name": "python",
   "nbconvert_exporter": "python",
   "pygments_lexer": "ipython3",
   "version": "3.8.8"
  }
 },
 "nbformat": 4,
 "nbformat_minor": 5
}
